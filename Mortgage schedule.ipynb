{
 "cells": [
  {
   "cell_type": "markdown",
   "metadata": {},
   "source": [
    "# Create Mortgage Amortization Schedule"
   ]
  },
  {
   "cell_type": "markdown",
   "metadata": {},
   "source": [
    "![title](img/peer-to-peer-mortgage.jpeg)"
   ]
  },
  {
   "cell_type": "markdown",
   "metadata": {},
   "source": [
    "## Part 1 - Mortgage Basics"
   ]
  },
  {
   "cell_type": "markdown",
   "metadata": {},
   "source": [
    "**Definition** <br>\n",
    "-  A mortgage is a <font color = red > loan </font> used to purchase a house.<br>\n",
    "-  A mortgage is a <font color = red > term loan </font>, secured by the collateral of specified real estate property, that the borrower is obliged to pay back with a predetermined set of payments."
   ]
  },
  {
   "cell_type": "markdown",
   "metadata": {},
   "source": [
    "**Disclosure Statement** <br>\n",
    "- A document outlining the specific terms and conditions of a loan, including the interest rate of the loan, any loan fees, the amount borrowed, insurance, prepayment rights and the responsibilities of the borrower."
   ]
  },
  {
   "cell_type": "markdown",
   "metadata": {},
   "source": [
    "**Principal Amount** <br>\n",
    "- The amount which you are borrowing from the bank."
   ]
  },
  {
   "cell_type": "markdown",
   "metadata": {},
   "source": [
    "**Interest Rate** <br>\n",
    "- The interest rate on your loan is a percentage of the loan amount that you pay the lender as the cost for borrowing money. A mortgage can have a fixed or variable interest rate."
   ]
  },
  {
   "cell_type": "markdown",
   "metadata": {},
   "source": [
    "**Term** <br>\n",
    "- The mortgage term is the length of time you commit to the mortgage rate, lender, and associated mortgage terms and conditions. The term you choose will have a direct effect on your mortgage rate, with short terms historically proven to be lower than long-term mortgage rates. \n",
    "- The term acts like a 'reset' button on a mortgage. When the term is up, you must renew your mortgage on the remaining principle, at a new rate available at the end of the term."
   ]
  },
  {
   "cell_type": "markdown",
   "metadata": {},
   "source": [
    "**Amortization period** <br>\n",
    "- The mortgage amortization period, on the other hand, is the length of time it will take you to pay off your entire mortgage. \n",
    "- Longer amortization periods reduce your monthly payments, as you are paying your mortgage off over a greater number of years. However, you will pay more interest over the life of the mortgage."
   ]
  },
  {
   "cell_type": "markdown",
   "metadata": {},
   "source": [
    "**Monthly payment** <br>\n",
    "- Your monthly payment is what you pay to the lender each month to repay your loan. The amount you pay every month depends on the terms of your mortgage loan. This includes the principal, which is the actual balance on the loan, and the interest on the loan."
   ]
  },
  {
   "cell_type": "markdown",
   "metadata": {},
   "source": [
    "**Prepayment** <br>\n",
    "- A privilege in a mortgage permitting the borrower to make payments in advance of their due date."
   ]
  },
  {
   "cell_type": "markdown",
   "metadata": {},
   "source": [
    "**Amortization schedule**\n",
    "- An amortization schedule is a <font color = red > complete table of periodic loan payments </font>, showing the amount of principal and the amount of interest that comprise each payment until the loan is paid off at the end of its term.\n",
    "- While each periodic payment is the same amount early in the schedule, the majority of each payment is interest; later in the schedule, the majority of each payment covers the loan's principal. The last line of the schedule shows the borrower’s total interest and principal payments for the entire loan term. See excel file for more details."
   ]
  },
  {
   "cell_type": "markdown",
   "metadata": {},
   "source": [
    "## Part 2 - Calculate Monthly Mortgage Payment"
   ]
  },
  {
   "cell_type": "markdown",
   "metadata": {},
   "source": [
    "![title](img/images.png)"
   ]
  },
  {
   "cell_type": "markdown",
   "metadata": {},
   "source": [
    "## Time value of money"
   ]
  },
  {
   "cell_type": "markdown",
   "metadata": {},
   "source": [
    "**Definition**<br>\n",
    "- All things being equal, it is better to have money now rather than later.\n",
    "- Money available at the present time is worth more than the identical sum in the future due to its potential earning capacity. This core principle of finance holds that, provided money can earn interest, any amount of money is worth more the sooner it is received. TVM is also sometimes referred to as present discounted value."
   ]
  },
  {
   "cell_type": "markdown",
   "metadata": {},
   "source": [
    "**Example** <br>\n"
   ]
  },
  {
   "cell_type": "markdown",
   "metadata": {},
   "source": [
    "Assume a sum of \\$10,000 is invested for one year at 10% interest.<br><br>\n",
    "The future value of that money is:     \n",
    "FV = \\\\$10,000 * (1 + 10%) = \\\\$11,000<br><br>\n",
    "The formula can also be rearranged to find the value of the future sum in present day dollars.<br><br>\n",
    "For example, the value of \\\\$5,000 one year from today, compounded at 7% interest, is:   \n",
    "PV = \\\\$5,000 / (1 + 7%) = \\\\$4,673"
   ]
  },
  {
   "cell_type": "markdown",
   "metadata": {},
   "source": [
    "**Annuity in Arrears** <br>\n",
    "- Annuity in arrears refers to the payment of an <font color = red > equal </font> amount of money that is made at the end of a regular term. It does not refer to an annuity product but instead refers to a payment structure. Another way of describing annuity in arrears is a series of periodic, recurring payments that are due at the end of a predetermined period. \n",
    "- A common example of an annuity in arrears is a mortgage payment which consists of principal and interest payment."
   ]
  },
  {
   "cell_type": "markdown",
   "metadata": {},
   "source": [
    "<img src=\"img/time value formula1.png\" alt=\"Drawing\" style=\"width: 400px;\"/>"
   ]
  },
  {
   "cell_type": "markdown",
   "metadata": {},
   "source": [
    "<img src=\"img/time value formula2.png\" alt=\"Drawing\" style=\"width: 400px;\"/>"
   ]
  },
  {
   "cell_type": "markdown",
   "metadata": {},
   "source": [
    "**Formula** <br>"
   ]
  },
  {
   "cell_type": "markdown",
   "metadata": {},
   "source": [
    "\\begin{align}\n",
    "Bal & = \\frac{Pmt}{1+r} + \\frac{Pmt}{(1+r)^2} + ... + \\frac{Pmt}{(1+r)^n} \\\\\n",
    "Bal & = Pmt \\sum_{i=1}^{n} (\\frac{1}{1+r})^i \\\\\n",
    "Pmt & = \\frac{Bal}{\\sum_{i=1}^{n} (\\frac{1}{1+r})^i} \\\\\n",
    "Pmt & = \\frac{Bal}{D},\\;\\;\\;\\;\\;\\;\\;where D = \\sum_{i=1}^{n} (\\frac{1}{1+r})^i\n",
    "\\end{align}"
   ]
  },
  {
   "cell_type": "markdown",
   "metadata": {},
   "source": [
    "**Geometric Sequence**"
   ]
  },
  {
   "cell_type": "markdown",
   "metadata": {},
   "source": [
    "The general form of a geometric sequence is\n",
    "<br>\n",
    "$$a,\\ ar,\\ ar^{2},\\ ar^{3},\\ ar^{4},\\ ...$$<br>\n",
    "where **r ≠ 0<span>** is the common ratio and __a<span>__ is a scale factor, equal to the sequence's start value.<br>\n",
    "<br>\n",
    "Example: 3, 6, 12, 24, ...<br>\n",
    "<br>\n",
    "The n-th term of a geometric sequence with initial value __a<span>__ and common ratio **r<span>** is given by<br>\n",
    "<br>\n",
    "$$a_{n}=a\\,r^{n-1}$$<br>"
   ]
  },
  {
   "cell_type": "markdown",
   "metadata": {},
   "source": [
    "## Part 3 - Create Mortgage Amortization Schedule"
   ]
  },
  {
   "cell_type": "markdown",
   "metadata": {},
   "source": [
    "## 1 - Packages"
   ]
  },
  {
   "cell_type": "code",
   "execution_count": 25,
   "metadata": {},
   "outputs": [],
   "source": [
    "import numpy as np\n",
    "import pandas as pd\n",
    "import matplotlib.pyplot as plt\n",
    "%matplotlib inline"
   ]
  },
  {
   "cell_type": "raw",
   "metadata": {},
   "source": [
    "pd.set_option('display.max_rows', 10)\n",
    "pd.set_option('display.max_columns', 500)"
   ]
  },
  {
   "cell_type": "markdown",
   "metadata": {},
   "source": [
    "## 2 - Helper functions ##"
   ]
  },
  {
   "cell_type": "markdown",
   "metadata": {},
   "source": [
    "### 2.1 - Compute sum of the first n terms of a geometric sequence       \n",
    "   \n",
    "Implement `sum_geo_seq()`. You need to compute $S_n = a \\frac{1 - r^n}{1 - r}$."
   ]
  },
  {
   "cell_type": "code",
   "execution_count": 26,
   "metadata": {},
   "outputs": [],
   "source": [
    "# Method 1\n",
    "# Compute Sn using above formula. Raise warning \"Common ratio cannot be 0\" if r = 0.\n",
    "def sum_geo_seq(a,r,n):\n",
    "\n",
    "    \"\"\"\n",
    "    Compute sum of the first n terms of a geometric sequence\n",
    "\n",
    "    Arguments:\n",
    "    a -- Scale factor, equal to the sequence's start value\n",
    "    r -- r ≠ 0 is the common ratio\n",
    "    n -- Number of terms\n",
    "    \n",
    "    Return:\n",
    "    Sn -- sum_geo_seq(a,r,n)\n",
    "    \"\"\"\n",
    "    \n",
    "    ### START CODE HERE ### (≈ 8 lines of code)  \n",
    "    if r == 0:\n",
    "        print(\"Common ratio cannot be 0\")\n",
    "    elif r == 1:\n",
    "        Sn = n * a\n",
    "        return Sn\n",
    "    else:\n",
    "        Sn = a * (1 - r**n) / (1 - r)\n",
    "        return Sn    \n",
    "    ### END CODE HERE ###"
   ]
  },
  {
   "cell_type": "code",
   "execution_count": 27,
   "metadata": {},
   "outputs": [
    {
     "name": "stdout",
     "output_type": "stream",
     "text": [
      "A geometric sequence has starting value = 4.00, common ratio = 2.00. The sum of its first 3 terms = 28.00\n",
      "A geometric sequence has starting value = 4.00, common ratio = 1.00. The sum of its first 3 terms = 12.00\n",
      "Common ratio cannot be 0\n"
     ]
    }
   ],
   "source": [
    "# Print out result.\n",
    "### START CODE HERE ### (≈ 2 lines of code)\n",
    "a, r, n = (4, 2, 3)\n",
    "Sn = sum_geo_seq(a,r,n)\n",
    "### END CODE HERE ###\n",
    "print(\"A geometric sequence has starting value = %.2f, common ratio = %.2f. The sum of its first %d terms = %.2f\"\n",
    "     %(a, r, n, Sn))\n",
    "\n",
    "### START CODE HERE ### (≈ 2 lines of code)\n",
    "a, r, n = (4, 1, 3)\n",
    "Sn = sum_geo_seq(a,r,n)\n",
    "### END CODE HERE ###\n",
    "print(\"A geometric sequence has starting value = %.2f, common ratio = %.2f. The sum of its first %d terms = %.2f\"\n",
    "     %(a, r, n, Sn))\n",
    "\n",
    "### START CODE HERE ### (≈ 2 lines of code)\n",
    "a, r, n = (4, 0, 3)\n",
    "sum_geo_seq(a,r,n)\n",
    "### END CODE HERE ###"
   ]
  },
  {
   "cell_type": "markdown",
   "metadata": {},
   "source": [
    "**Expected Output**:    \n",
    "    \n",
    "A geometric sequence has starting value = 4.00, common ratio = 2.00. The sum of its first 3 terms = 28.00   \n",
    "A geometric sequence has starting value = 4.00, common ratio = 1.00. The sum of its first 3 terms = 12.00   \n",
    "Common ratio cannot be 0   "
   ]
  },
  {
   "cell_type": "code",
   "execution_count": 28,
   "metadata": {},
   "outputs": [],
   "source": [
    "# Method 2\n",
    "# Compute Sn using for loop. Raise warning \"Common ratio cannot be 0\" if r = 0.\n",
    "def sum_geo_seq2(a,r,n):\n",
    "\n",
    "    \"\"\"\n",
    "    Compute sum of the first n terms of a geometric sequence\n",
    "\n",
    "    Arguments:\n",
    "    a -- Scale factor, equal to the sequence's start value\n",
    "    r -- r ≠ 0 is the common ratio\n",
    "    n -- Number of terms\n",
    "    \n",
    "    Return:\n",
    "    Sn -- sum_geo_seq2(a,r,n)\n",
    "    \"\"\"    \n",
    "    \n",
    "    ### START CODE HERE ### (≈ 8 lines of code)\n",
    "    if r == 0:\n",
    "        print(\"Common ratio cannot be 0\")  \n",
    "    \n",
    "    else:\n",
    "        Sn = 0\n",
    "        for i in range(1, n+1):\n",
    "            a_i = a * r ** (i-1)\n",
    "            Sn = Sn + a_i\n",
    "        return Sn    \n",
    "    ### END CODE HERE ###"
   ]
  },
  {
   "cell_type": "markdown",
   "metadata": {},
   "source": [
    "$$S_n\\ =\\ a\\ +ar\\ +ar^{2}\\ +ar^{3}\\ +\\ ...\\ +ar^{n-1}$$<br>\n",
    "$$a_{n}=a\\,r^{n-1}$$<br>\n",
    "Let $S = 0$<br>\n",
    "$a_{i}=a\\,r^{i-1}$<br><br>\n",
    "When i = 1, $S = S + a_1$ -> $S = 0 + a_1 = a = S_1$<br>\n",
    "When i = 2, $S = S + a_2$ -> $S = a + a_2 = a + ar = S_2$<br>\n",
    "When i = 3, $S = S + a_3$ -> $S = a + ar + a_3 = a + ar + ar^{2} = S_3$<br>\n",
    "...<br>\n",
    "When i = n, $S = S + a_n$ -> $S = a+ar+ar^{2}+ar^{3}+...+ ar^{n-2} + a_n = a+ar+ar^{2}+ar^{3}+...+ ar^{n-1} = S_n$"
   ]
  },
  {
   "cell_type": "code",
   "execution_count": 29,
   "metadata": {},
   "outputs": [
    {
     "name": "stdout",
     "output_type": "stream",
     "text": [
      "A geometric sequence has starting value = 4.00, common ratio = 2.00. The sum of its first 3 terms = 28.00\n",
      "A geometric sequence has starting value = 4.00, common ratio = 1.00. The sum of its first 3 terms = 12.00\n",
      "Common ratio cannot be 0\n"
     ]
    }
   ],
   "source": [
    "# Print out result.\n",
    "a, r, n = (4, 2, 3)\n",
    "Sn = sum_geo_seq2(a,r,n)\n",
    "print(\"A geometric sequence has starting value = %.2f, common ratio = %.2f. The sum of its first %d terms = %.2f\"\n",
    "     %(a, r, n, Sn))\n",
    "\n",
    "a, r, n = (4, 1, 3)\n",
    "Sn = sum_geo_seq2(a,r,n)\n",
    "print(\"A geometric sequence has starting value = %.2f, common ratio = %.2f. The sum of its first %d terms = %.2f\"\n",
    "     %(a, r, n, Sn))\n",
    "\n",
    "a, r, n = (4, 0, 3)\n",
    "sum_geo_seq2(a,r,n)"
   ]
  },
  {
   "cell_type": "markdown",
   "metadata": {},
   "source": [
    "**Expected Output**:    \n",
    "    \n",
    "A geometric sequence has starting value = 4.00, common ratio = 2.00. The sum of its first 3 terms = 28.00   \n",
    "A geometric sequence has starting value = 4.00, common ratio = 1.00. The sum of its first 3 terms = 12.00   \n",
    "Common ratio cannot be 0   "
   ]
  },
  {
   "cell_type": "code",
   "execution_count": 30,
   "metadata": {},
   "outputs": [],
   "source": [
    "# Method 3\n",
    "# Compute Sn using np.geomspace. Raise warning \"Common ratio cannot be 0\" if r = 0.\n",
    "# https://docs.scipy.org/doc/numpy-1.15.0/reference/generated/numpy.geomspace.html\n",
    "def sum_geo_seq3(a,r,n):\n",
    "    \n",
    "    \"\"\"\n",
    "    Compute sum of the first n terms of a geometric sequence\n",
    "\n",
    "    Arguments:\n",
    "    a -- Scale factor, equal to the sequence's start value\n",
    "    r -- r ≠ 0 is the common ratio\n",
    "    n -- Number of terms\n",
    "    \n",
    "    Return:\n",
    "    Sn -- sum_geo_seq3(a,r,n)\n",
    "    \"\"\"    \n",
    "    \n",
    "    ### START CODE HERE ### (≈ 5 lines of code)\n",
    "    if r == 0:\n",
    "        print(\"Common ratio cannot be 0\")\n",
    "    \n",
    "    else:\n",
    "        Sn = np.geomspace(a, a*r**(n-1), num=n).sum()    \n",
    "        return Sn    \n",
    "    ### END CODE HERE ###"
   ]
  },
  {
   "cell_type": "code",
   "execution_count": 31,
   "metadata": {},
   "outputs": [
    {
     "name": "stdout",
     "output_type": "stream",
     "text": [
      "A geometric sequence has starting value = 4.00, common ratio = 2.00. The sum of its first 3 terms = 28.00\n",
      "A geometric sequence has starting value = 4.00, common ratio = 1.00. The sum of its first 3 terms = 12.00\n",
      "Common ratio cannot be 0\n"
     ]
    }
   ],
   "source": [
    "# Print out result.\n",
    "a, r, n = (4, 2, 3)\n",
    "Sn = sum_geo_seq3(a,r,n)\n",
    "print(\"A geometric sequence has starting value = %.2f, common ratio = %.2f. The sum of its first %d terms = %.2f\"\n",
    "     %(a, r, n, Sn))\n",
    "\n",
    "a, r, n = (4, 1, 3)\n",
    "Sn = sum_geo_seq3(a,r,n)\n",
    "print(\"A geometric sequence has starting value = %.2f, common ratio = %.2f. The sum of its first %d terms = %.2f\"\n",
    "     %(a, r, n, Sn))\n",
    "\n",
    "a, r, n = (4, 0, 3)\n",
    "sum_geo_seq3(a,r,n)"
   ]
  },
  {
   "cell_type": "markdown",
   "metadata": {},
   "source": [
    "**Expected Output**:    \n",
    "    \n",
    "A geometric sequence has starting value = 4.00, common ratio = 2.00. The sum of its first 3 terms = 28.00   \n",
    "A geometric sequence has starting value = 4.00, common ratio = 1.00. The sum of its first 3 terms = 12.00   \n",
    "Common ratio cannot be 0   "
   ]
  },
  {
   "cell_type": "markdown",
   "metadata": {},
   "source": [
    "### 2.2 - Compute monthly mortgage payment       \n",
    "    \n",
    "$ PMT = \\frac{BAL}{D} $, where $ D = \\sum_{i=1}^n (\\frac{1}{1+r})^i $"
   ]
  },
  {
   "cell_type": "code",
   "execution_count": 32,
   "metadata": {},
   "outputs": [],
   "source": [
    "def mth_mtg_pmt(Bal, Rate, Period):\n",
    "    \n",
    "    \"\"\"\n",
    "    Compute monthly mortgage payment\n",
    "\n",
    "    Arguments:\n",
    "    Bal    -- Initial balance or Current outstanding balance\n",
    "    Rate   -- Annual interest rate in percentage\n",
    "    Period -- Amortization period or Remaining amortization period \n",
    "    \n",
    "    Return:\n",
    "    Pmt -- mth_mtg_pmt(Bal, Rate, Period)\n",
    "    \"\"\"\n",
    "    \n",
    "    #Calculate monthly interest rate\n",
    "    ### START CODE HERE ### (≈ 1 line of code)\n",
    "    mRate = Rate/12/100\n",
    "    ### END CODE HERE ###\n",
    "    \n",
    "    #Calculate monthly mortgage payment using above defined helper function\n",
    "    ### START CODE HERE ### (≈ 5 lines of code)\n",
    "    a = 1 / (1 + mRate)\n",
    "    r = 1 / (1 + mRate)\n",
    "    n = Period * 12\n",
    "    D = sum_geo_seq(a,r,n)\n",
    "    \n",
    "    Pmt = Bal / D\n",
    "    ### END CODE HERE ###\n",
    "\n",
    "    return Pmt"
   ]
  },
  {
   "cell_type": "code",
   "execution_count": 33,
   "metadata": {},
   "outputs": [
    {
     "name": "stdout",
     "output_type": "stream",
     "text": [
      "When balance = 760000, annual interest rate = 2.19%, amortization period = 25,\n",
      "monthly mortgage payment is: 3292.06\n"
     ]
    }
   ],
   "source": [
    "# Print out result.\n",
    "### START CODE HERE ### (≈ 2 lines of code)\n",
    "Bal, Rate, Period = (760000, 2.19, 25)\n",
    "Pmt = mth_mtg_pmt(Bal = 760000, Rate = 2.19, Period = 25)\n",
    "### END CODE HERE ###\n",
    "print(\"When balance = \" + str(Bal) + \", annual interest rate = \" + str(Rate) + \n",
    "      \"%, amortization period = \" + str(Period) + \",\")\n",
    "print(\"monthly mortgage payment is: \" + str(round(Pmt,2)))"
   ]
  },
  {
   "cell_type": "markdown",
   "metadata": {},
   "source": [
    "**Expected Output**:    \n",
    "    \n",
    "When balance = 760000, annual interest rate = 2.19%, amortization period = 25,    \n",
    "monthly mortgage payment is: 3292.06    "
   ]
  },
  {
   "cell_type": "markdown",
   "metadata": {},
   "source": [
    "## 3 - Create mortgage amortization schedule"
   ]
  },
  {
   "cell_type": "code",
   "execution_count": 34,
   "metadata": {},
   "outputs": [],
   "source": [
    "def amort(Bal, Rate, Period):\n",
    "\n",
    "    \"\"\"\n",
    "    Create mortgage amortization schedule\n",
    "\n",
    "    Arguments:\n",
    "    Bal    -- Current outstanding balance\n",
    "    Rate   -- Annual interest rate in percentage\n",
    "    Period -- Amortization Period\n",
    "    \n",
    "    Returns:\n",
    "    Res -- Nested list. Mortgage amortization schedule including payment number, outstanding balance, monthly payment,\n",
    "           interest payment, cumulative interest payment, principal payment, cumulative principal payment\n",
    "    \"\"\"\n",
    "    \n",
    "    # Parameter initialization\n",
    "    ### START CODE HERE ### (≈ 3 lines of code)\n",
    "    Res = []\n",
    "    CumInt = 0\n",
    "    CumPri = 0\n",
    "    ### END CODE HERE ###\n",
    "    \n",
    "    # Calculate monthly mortgage payment based on current balance, \n",
    "    # annual interest rate and remaining amortization period\n",
    "    ### START CODE HERE ### (≈ 1 line of code)\n",
    "    MthPmt = mth_mtg_pmt(Bal, Rate, Period)\n",
    "    ### END CODE HERE ###\n",
    "    \n",
    "    # Create mortgage amortization cash flow\n",
    "    ### START CODE HERE ### (≈ 1 line of code)\n",
    "    for i in range(1, Period * 12 + 1):\n",
    "    ### END CODE HERE ###\n",
    "    \n",
    "        # Interest Payment\n",
    "        # Calculate interest payment as of ith mortgage payment date\n",
    "        ### START CODE HERE ### (≈ 1 line of code)\n",
    "        IntPmt = Bal * Rate/100/12\n",
    "        ### END CODE HERE ###\n",
    "        # Calculate cumulative interest payment as of ith mortgage payment date\n",
    "        ### START CODE HERE ### (≈ 1 line of code)\n",
    "        CumInt = CumInt + IntPmt\n",
    "        ### END CODE HERE ###\n",
    "\n",
    "        # Principal Payment\n",
    "        # Calculate principal payment as of ith mortgage payment date\n",
    "        ### START CODE HERE ### (≈ 1 line of code)\n",
    "        PriPmt = MthPmt - IntPmt\n",
    "        ### END CODE HERE ###\n",
    "        # Calculate cumulative principal payment as of ith mortgage payment date\n",
    "        ### START CODE HERE ### (≈ 1 line of code)\n",
    "        CumPri = CumPri + PriPmt\n",
    "        ### END CODE HERE ###\n",
    "        \n",
    "        # Outstanding Balance\n",
    "        # Calculate outstanding banlance as of ith mortgage payment date\n",
    "        ### START CODE HERE ### (≈ 1 line of code)\n",
    "        Bal = Bal - PriPmt\n",
    "        ### END CODE HERE ###\n",
    "\n",
    "        # Create mortgage payment cash flow\n",
    "        # i, Bal, MthPmt, IntPmt, CumInt, PriPmt, CumPri\n",
    "        ### START CODE HERE ### (≈ 1 line of code)\n",
    "        Res.append([i, Bal, MthPmt, IntPmt, CumInt, PriPmt, CumPri])\n",
    "        ### END CODE HERE ###\n",
    "\n",
    "    return Res"
   ]
  },
  {
   "cell_type": "code",
   "execution_count": 35,
   "metadata": {},
   "outputs": [
    {
     "name": "stdout",
     "output_type": "stream",
     "text": [
      "<class 'list'>\n",
      "First Payment: [1, 758094, 3292, 1387, 1387, 1905, 1905]\n",
      "Second Payment: [2, 756186, 3292, 1383, 2770, 1908, 3813]\n"
     ]
    }
   ],
   "source": [
    "# Print out first two payments given balance = 760000, anuual interest rate is 2.19%, amortization period is 25 years.\n",
    "### START CODE HERE ### (≈ 1 line of code)\n",
    "CashFlow = amort(Bal = 760000, Rate = 2.19, Period = 25)\n",
    "### END CODE HERE ###\n",
    "print(type(CashFlow))\n",
    "print('First Payment:', [int(i) for i in CashFlow[0]]) #list comprehension\n",
    "print('Second Payment:', [int(i) for i in CashFlow[1]])"
   ]
  },
  {
   "cell_type": "markdown",
   "metadata": {},
   "source": [
    "**Expected Output**:   \n",
    "class 'list'    \n",
    "First Payment: [1, 758094, 3292, 1387, 1387, 1905, 1905]      \n",
    "Second Payment: [2, 756186, 3292, 1383, 2770, 1908, 3813]"
   ]
  },
  {
   "cell_type": "markdown",
   "metadata": {},
   "source": [
    "## 4 - Convert list of cash flow into pandas DataFrame"
   ]
  },
  {
   "cell_type": "code",
   "execution_count": 36,
   "metadata": {},
   "outputs": [],
   "source": [
    "# pandas documentation http://pandas.pydata.org/pandas-docs/stable/index.html\n",
    "# https://pandas.pydata.org/pandas-docs/stable/generated/pandas.date_range.html\n",
    "def to_Pandas(Bal, Rate, Period, FirstPmtDate):\n",
    "    \n",
    "    '''\n",
    "    Create mortgage amortization schedule in Pandas DataFrame format\n",
    "\n",
    "    Arguments:\n",
    "    Bal    -- Current outstanding balance\n",
    "    Rate   -- Annual interest rate in percentage\n",
    "    Period -- Amortization Period\n",
    "    FirstPmtDate -- String. yyyymmdd.\n",
    "    \n",
    "    Returns:\n",
    "    Df -- Pandas DataFrame. Complete Mortgage amortization schedule.\n",
    "    '''\n",
    "    \n",
    "    # Convert mortgage amortization schedule from nested list to Pandas DataFrame and \n",
    "    # round all columns to 2 decimal places.\n",
    "    ### START CODE HERE ### (≈ 1 line of code)\n",
    "    Df = pd.DataFrame(amort(Bal,Rate,Period)).round(2) \n",
    "    ### END CODE HERE ###\n",
    "    \n",
    "    # Add column names\n",
    "    # 'PmtNo','OutstandingBal','MthPmt','IntPmt','TotIntPaid','PrincipalPmt','TotPrincipalPaid'\n",
    "    Df.columns = ['PmtNo', 'OutstandingBal', 'MthPmt', 'IntPmt', 'TotIntPaid',\n",
    "                  'PrincipalPmt', 'TotPrincipalPaid']\n",
    "\n",
    "    # Add Payment date column\n",
    "    ### START CODE HERE ### (≈ 1 line of code)\n",
    "    Df['PmtDate'] = pd.date_range(start=FirstPmtDate, periods=Period*12, freq='MS')\n",
    "    ### END CODE HERE ###\n",
    "    \n",
    "    # Customize column order\n",
    "    # 'PmtDate','PmtNo','OutstandingBal','MthPmt','IntPmt','TotIntPaid','PrincipalPmt','TotPrincipalPaid'\n",
    "    ### START CODE HERE ### (≈ 1 line of code)\n",
    "    Df = Df[['PmtDate','PmtNo', 'OutstandingBal', 'MthPmt', 'IntPmt', 'TotIntPaid',\n",
    "               'PrincipalPmt', 'TotPrincipalPaid']]\n",
    "    ### END CODE HERE ###\n",
    "    \n",
    "    return Df"
   ]
  },
  {
   "cell_type": "code",
   "execution_count": 46,
   "metadata": {
    "scrolled": false
   },
   "outputs": [
    {
     "data": {
      "text/html": [
       "<div>\n",
       "<style scoped>\n",
       "    .dataframe tbody tr th:only-of-type {\n",
       "        vertical-align: middle;\n",
       "    }\n",
       "\n",
       "    .dataframe tbody tr th {\n",
       "        vertical-align: top;\n",
       "    }\n",
       "\n",
       "    .dataframe thead th {\n",
       "        text-align: right;\n",
       "    }\n",
       "</style>\n",
       "<table border=\"1\" class=\"dataframe\">\n",
       "  <thead>\n",
       "    <tr style=\"text-align: right;\">\n",
       "      <th></th>\n",
       "      <th>PmtDate</th>\n",
       "      <th>PmtNo</th>\n",
       "      <th>OutstandingBal</th>\n",
       "      <th>MthPmt</th>\n",
       "      <th>IntPmt</th>\n",
       "      <th>TotIntPaid</th>\n",
       "      <th>PrincipalPmt</th>\n",
       "      <th>TotPrincipalPaid</th>\n",
       "    </tr>\n",
       "  </thead>\n",
       "  <tbody>\n",
       "    <tr>\n",
       "      <th>0</th>\n",
       "      <td>2020-01-01</td>\n",
       "      <td>1</td>\n",
       "      <td>1995134.22</td>\n",
       "      <td>13199.11</td>\n",
       "      <td>8333.33</td>\n",
       "      <td>8333.33</td>\n",
       "      <td>4865.78</td>\n",
       "      <td>4865.78</td>\n",
       "    </tr>\n",
       "    <tr>\n",
       "      <th>1</th>\n",
       "      <td>2020-02-01</td>\n",
       "      <td>2</td>\n",
       "      <td>1990248.16</td>\n",
       "      <td>13199.11</td>\n",
       "      <td>8313.06</td>\n",
       "      <td>16646.39</td>\n",
       "      <td>4886.06</td>\n",
       "      <td>9751.84</td>\n",
       "    </tr>\n",
       "    <tr>\n",
       "      <th>2</th>\n",
       "      <td>2020-03-01</td>\n",
       "      <td>3</td>\n",
       "      <td>1985341.75</td>\n",
       "      <td>13199.11</td>\n",
       "      <td>8292.70</td>\n",
       "      <td>24939.09</td>\n",
       "      <td>4906.41</td>\n",
       "      <td>14658.25</td>\n",
       "    </tr>\n",
       "    <tr>\n",
       "      <th>3</th>\n",
       "      <td>2020-04-01</td>\n",
       "      <td>4</td>\n",
       "      <td>1980414.89</td>\n",
       "      <td>13199.11</td>\n",
       "      <td>8272.26</td>\n",
       "      <td>33211.35</td>\n",
       "      <td>4926.86</td>\n",
       "      <td>19585.11</td>\n",
       "    </tr>\n",
       "    <tr>\n",
       "      <th>4</th>\n",
       "      <td>2020-05-01</td>\n",
       "      <td>5</td>\n",
       "      <td>1975467.51</td>\n",
       "      <td>13199.11</td>\n",
       "      <td>8251.73</td>\n",
       "      <td>41463.08</td>\n",
       "      <td>4947.39</td>\n",
       "      <td>24532.49</td>\n",
       "    </tr>\n",
       "    <tr>\n",
       "      <th>...</th>\n",
       "      <td>...</td>\n",
       "      <td>...</td>\n",
       "      <td>...</td>\n",
       "      <td>...</td>\n",
       "      <td>...</td>\n",
       "      <td>...</td>\n",
       "      <td>...</td>\n",
       "      <td>...</td>\n",
       "    </tr>\n",
       "    <tr>\n",
       "      <th>235</th>\n",
       "      <td>2039-08-01</td>\n",
       "      <td>236</td>\n",
       "      <td>52251.05</td>\n",
       "      <td>13199.11</td>\n",
       "      <td>271.58</td>\n",
       "      <td>1167242.13</td>\n",
       "      <td>12927.54</td>\n",
       "      <td>1947748.95</td>\n",
       "    </tr>\n",
       "    <tr>\n",
       "      <th>236</th>\n",
       "      <td>2039-09-01</td>\n",
       "      <td>237</td>\n",
       "      <td>39269.64</td>\n",
       "      <td>13199.11</td>\n",
       "      <td>217.71</td>\n",
       "      <td>1167459.85</td>\n",
       "      <td>12981.40</td>\n",
       "      <td>1960730.36</td>\n",
       "    </tr>\n",
       "    <tr>\n",
       "      <th>237</th>\n",
       "      <td>2039-10-01</td>\n",
       "      <td>238</td>\n",
       "      <td>26234.15</td>\n",
       "      <td>13199.11</td>\n",
       "      <td>163.62</td>\n",
       "      <td>1167623.47</td>\n",
       "      <td>13035.49</td>\n",
       "      <td>1973765.85</td>\n",
       "    </tr>\n",
       "    <tr>\n",
       "      <th>238</th>\n",
       "      <td>2039-11-01</td>\n",
       "      <td>239</td>\n",
       "      <td>13144.35</td>\n",
       "      <td>13199.11</td>\n",
       "      <td>109.31</td>\n",
       "      <td>1167732.78</td>\n",
       "      <td>13089.81</td>\n",
       "      <td>1986855.65</td>\n",
       "    </tr>\n",
       "    <tr>\n",
       "      <th>239</th>\n",
       "      <td>2039-12-01</td>\n",
       "      <td>240</td>\n",
       "      <td>0.00</td>\n",
       "      <td>13199.11</td>\n",
       "      <td>54.77</td>\n",
       "      <td>1167787.55</td>\n",
       "      <td>13144.35</td>\n",
       "      <td>2000000.00</td>\n",
       "    </tr>\n",
       "  </tbody>\n",
       "</table>\n",
       "<p>240 rows × 8 columns</p>\n",
       "</div>"
      ],
      "text/plain": [
       "       PmtDate  PmtNo  OutstandingBal    MthPmt   IntPmt  TotIntPaid  \\\n",
       "0   2020-01-01      1      1995134.22  13199.11  8333.33     8333.33   \n",
       "1   2020-02-01      2      1990248.16  13199.11  8313.06    16646.39   \n",
       "2   2020-03-01      3      1985341.75  13199.11  8292.70    24939.09   \n",
       "3   2020-04-01      4      1980414.89  13199.11  8272.26    33211.35   \n",
       "4   2020-05-01      5      1975467.51  13199.11  8251.73    41463.08   \n",
       "..         ...    ...             ...       ...      ...         ...   \n",
       "235 2039-08-01    236        52251.05  13199.11   271.58  1167242.13   \n",
       "236 2039-09-01    237        39269.64  13199.11   217.71  1167459.85   \n",
       "237 2039-10-01    238        26234.15  13199.11   163.62  1167623.47   \n",
       "238 2039-11-01    239        13144.35  13199.11   109.31  1167732.78   \n",
       "239 2039-12-01    240            0.00  13199.11    54.77  1167787.55   \n",
       "\n",
       "     PrincipalPmt  TotPrincipalPaid  \n",
       "0         4865.78           4865.78  \n",
       "1         4886.06           9751.84  \n",
       "2         4906.41          14658.25  \n",
       "3         4926.86          19585.11  \n",
       "4         4947.39          24532.49  \n",
       "..            ...               ...  \n",
       "235      12927.54        1947748.95  \n",
       "236      12981.40        1960730.36  \n",
       "237      13035.49        1973765.85  \n",
       "238      13089.81        1986855.65  \n",
       "239      13144.35        2000000.00  \n",
       "\n",
       "[240 rows x 8 columns]"
      ]
     },
     "execution_count": 46,
     "metadata": {},
     "output_type": "execute_result"
    }
   ],
   "source": [
    "# Expected Output:\n",
    "### START CODE HERE ### (≈ 1 line of code)\n",
    "Df = to_Pandas(Bal=2000000, Rate=5.00, Period=20, FirstPmtDate='2020-01-01')\n",
    "### END CODE HERE ###\n",
    "Df"
   ]
  },
  {
   "cell_type": "code",
   "execution_count": 38,
   "metadata": {},
   "outputs": [],
   "source": [
    "# Export to csv file\n",
    "# Df.to_csv('mtg_amort_table.csv')"
   ]
  },
  {
   "cell_type": "markdown",
   "metadata": {},
   "source": [
    "## 5 - Plot"
   ]
  },
  {
   "cell_type": "code",
   "execution_count": 39,
   "metadata": {},
   "outputs": [
    {
     "data": {
      "image/png": "[encoded data removed]",
      "text/plain": [
       "<Figure size 432x288 with 1 Axes>"
      ]
     },
     "metadata": {
      "needs_background": "light"
     },
     "output_type": "display_data"
    }
   ],
   "source": [
    "# https://matplotlib.org/api/_as_gen/matplotlib.pyplot.plot.html\n",
    "### START CODE HERE ### (≈ 4 lines of code)\n",
    "plt.plot(Df['PmtNo'], Df['TotIntPaid'], label='CumulativeInterestPaid')\n",
    "plt.plot(Df['PmtNo'], Df['TotPrincipalPaid'], label='CumulativePrincipalPaid')\n",
    "plt.plot(Df['PmtNo'], Df['OutstandingBal'], label='OutstandingBalance')\n",
    "plt.legend()\n",
    "### END CODE HERE ###\n",
    "plt.show()"
   ]
  },
  {
   "cell_type": "code",
   "execution_count": 40,
   "metadata": {
    "scrolled": true
   },
   "outputs": [
    {
     "data": {
      "image/png": "[encoded data removed]",
      "text/plain": [
       "<Figure size 432x288 with 1 Axes>"
      ]
     },
     "metadata": {
      "needs_background": "light"
     },
     "output_type": "display_data"
    }
   ],
   "source": [
    "# https://matplotlib.org/api/_as_gen/matplotlib.pyplot.stackplot.html\n",
    "# https://matplotlib.org/gallery/lines_bars_and_markers/stackplot_demo.html\n",
    "### START CODE HERE ### (≈ 2 lines of code)\n",
    "plt.stackplot(Df['PmtNo'], Df['PrincipalPmt'], Df['IntPmt'], labels=['PrincipalPayment','InterestPayment'])\n",
    "plt.legend(loc='upper left')\n",
    "### END CODE HERE ###\n",
    "plt.show()"
   ]
  },
  {
   "cell_type": "markdown",
   "metadata": {},
   "source": [
    "## Part 4 - Advanced: Prepayment"
   ]
  },
  {
   "cell_type": "code",
   "execution_count": 41,
   "metadata": {},
   "outputs": [],
   "source": [
    "def adv_amort(Bal, Rate, Period, PrePmt = {}):\n",
    "    \n",
    "    \"\"\"\n",
    "    Create mortgage amortization schedule\n",
    "\n",
    "    Arguments:\n",
    "    Bal    -- Current outstanding balance\n",
    "    Rate   -- Annual interest rate in percentage\n",
    "    Period -- Amortization Period\n",
    "    PrePmt -- dict, Optional. \n",
    "              Prepayment between ith and (i+1)th payment\n",
    "    \n",
    "    Returns:\n",
    "    Res -- Nested list. Mortgage amortization schedule including payment number, outstanding balance, monthly payment,\n",
    "           interest payment, cumulative interest payment, principal payment, cumulative principal payment,\n",
    "           prepayment amount, cumulative prepayment amount\n",
    "    \"\"\"\n",
    "    \n",
    "    # Parameter initialization\n",
    "    ### START CODE HERE ### (≈ 4 lines of code)\n",
    "    Res = []\n",
    "    CumInt = 0\n",
    "    CumPri = 0\n",
    "    CumPre = 0\n",
    "    ### END CODE HERE ###\n",
    "    \n",
    "    # Calculate monthly mortgage payment based on current balance, \n",
    "    # annual interest rate and remaining amortization period\n",
    "    ### START CODE HERE ### (≈ 1 line of code)\n",
    "    MthPmt = mth_mtg_pmt(Bal, Rate, Period)\n",
    "    ### END CODE HERE ###\n",
    "    \n",
    "    # Create mortgage amortization cash flow\n",
    "    ### START CODE HERE ### (≈ 1 line of code)\n",
    "    for i in range(1, Period * 12 + 1):\n",
    "    ### END CODE HERE ###    \n",
    "    \n",
    "        # Interest Payment\n",
    "        # Calculate interest payment as of ith mortgage payment date\n",
    "        ### START CODE HERE ### (≈ 1 line of code)\n",
    "        IntPmt = Bal * Rate/100/12\n",
    "        ### END CODE HERE ###    \n",
    "        \n",
    "        # Calculate cumulative interest payment as of ith mortgage payment date\n",
    "        ### START CODE HERE ### (≈ 1 line of code)\n",
    "        CumInt = CumInt + IntPmt\n",
    "        ### END CODE HERE ###  \n",
    "        \n",
    "        # Prepayment\n",
    "        # Set prepayment value if there is a prepayment on ith mortgage payment date, set to 0 otherwise.\n",
    "        ### START CODE HERE ### (≈ 4 lines of code)\n",
    "        if i in PrePmt:\n",
    "            PrePmtVal = PrePmt[i]\n",
    "        else:\n",
    "            PrePmtVal = 0\n",
    "        ### END CODE HERE ###\n",
    "\n",
    "        # Calculate cumulative prepayment as of ith mortgage payment date\n",
    "        ### START CODE HERE ### (≈ 1 line of code)\n",
    "        CumPre = CumPre + PrePmtVal\n",
    "        ### END CODE HERE ###\n",
    "        \n",
    "        # Principal Payment\n",
    "        # Calculate principal payment as of ith mortgage payment date\n",
    "        ### START CODE HERE ### (≈ 1 line of code)\n",
    "        PriPmt = MthPmt - IntPmt + PrePmtVal\n",
    "        ### END CODE HERE ###\n",
    "\n",
    "        # Raise warning \"Principal Payment cannot exceed current balance! Please re-enter prepayment amount.\"\n",
    "        # if Principal Payment is more than current balance and stop creating the cash flow.\n",
    "        ### START CODE HERE ### (≈ 3 lines of code)\n",
    "        if PrePmtVal > 0 and PriPmt > Bal:\n",
    "            print('Principal Payment cannot exceed current balance! Please re-enter prepayment amount.')\n",
    "            break\n",
    "        ### END CODE HERE ###        \n",
    "        \n",
    "        # Outstanding Balance\n",
    "        # Calculate outstanding banlance as of ith mortgage payment date\n",
    "        ### START CODE HERE ### (≈ 1 line of code)\n",
    "        Bal = Bal - PriPmt\n",
    "        ### END CODE HERE ###\n",
    "\n",
    "        # Adjust payment amount on ith mortgage payment date if outstanding balance is negative after ith payment\n",
    "        ### START CODE HERE ### (≈ 8 lines of code)\n",
    "        if Bal < 0:\n",
    "            Bal = Bal + PriPmt\n",
    "            MthPmt = IntPmt + Bal\n",
    "            PriPmt = Bal\n",
    "            CumPri = CumPri + PriPmt\n",
    "            Bal = 0\n",
    "            Res.append([i, Bal, MthPmt, IntPmt, CumInt, PriPmt, CumPri, PrePmtVal, CumPre])\n",
    "            break\n",
    "        ### END CODE HERE ###\n",
    "        \n",
    "        # Calculate cumulative principal payment as of ith mortgage payment date\n",
    "        ### START CODE HERE ### (≈ 1 line of code)\n",
    "        CumPri = CumPri + PriPmt\n",
    "        ### END CODE HERE ###\n",
    "        \n",
    "        # Create mortgage payment cash flow\n",
    "        # i, Bal, MthPmt, IntPmt, CumInt, PriPmt, CumPri, PrePmtVal, CumPre\n",
    "        ### START CODE HERE ### (≈ 1 line of code)\n",
    "        Res.append([i, Bal, MthPmt, IntPmt, CumInt, PriPmt, CumPri, PrePmtVal, CumPre])       \n",
    "        ### END CODE HERE ###\n",
    "        \n",
    "    return Res"
   ]
  },
  {
   "cell_type": "code",
   "execution_count": 47,
   "metadata": {},
   "outputs": [
    {
     "name": "stdout",
     "output_type": "stream",
     "text": [
      "First Payment: [1, 1995134, 13199, 8333, 8333, 4865, 4865, 0, 0]\n",
      "Second Payment: [2, 1990248, 13199, 8313, 16646, 4886, 9751, 0, 0]\n",
      "Third Payment: [3, 1985341, 13199, 8292, 24939, 4906, 14658, 0, 0]\n",
      "Forth Payment: [4, 1980414, 13199, 8272, 33211, 4926, 19585, 0, 0]\n"
     ]
    }
   ],
   "source": [
    "# Print out first four payments given balance = 760000, anuual interest rate is 2.19%, \n",
    "# amortization period is 25 years and \n",
    "# prepayments were made on the third and fifth payment date with 300000 and 100000 dollars.\n",
    "### START CODE HERE ### (≈ 1 line of code)\n",
    "adv_CashFlow = adv_amort(Bal = 2000000, Rate = 5.00, Period = 20, PrePmt = {24:500000,30:500000})\n",
    "### END CODE HERE ###\n",
    "print('First Payment:', [int(i) for i in adv_CashFlow[0]])\n",
    "print('Second Payment:', [int(i) for i in adv_CashFlow[1]])\n",
    "print('Third Payment:', [int(i) for i in adv_CashFlow[2]])\n",
    "print('Forth Payment:', [int(i) for i in adv_CashFlow[3]])"
   ]
  },
  {
   "cell_type": "markdown",
   "metadata": {},
   "source": [
    "**Expected Output**:   \n",
    "First Payment: [1, 758094, 3292, 1387, 1387, 1905, 1905, 0, 0]   \n",
    "Second Payment: [2, 756186, 3292, 1383, 2770, 1908, 3813, 0, 0]   \n",
    "Third Payment: [3, 454274, 3292, 1380, 4150, 301912, 305725, 300000, 300000]   \n",
    "Forth Payment: [4, 451811, 3292, 829, 4979, 2463, 308188, 0, 300000]    "
   ]
  },
  {
   "cell_type": "code",
   "execution_count": 43,
   "metadata": {},
   "outputs": [],
   "source": [
    "def adv_to_Pandas(Bal, Rate, Period, FirstPmtDate, PrePmt = {}):\n",
    "    \n",
    "    '''\n",
    "    Create mortgage amortization schedule in Pandas DataFrame format\n",
    "\n",
    "    Arguments:\n",
    "    Bal    -- Current outstanding balance\n",
    "    Rate   -- Annual interest rate in percentage\n",
    "    Period -- Amortization Period\n",
    "    FirstPmtDate -- String. yyyymmdd.\n",
    "    PrePmt -- dict, Optional. \n",
    "              Prepayment between ith and (i+1)th payment\n",
    "    \n",
    "    Returns:\n",
    "    Df -- Pandas DataFrame. Complete Mortgage amortization schedule.\n",
    "    '''\n",
    "    \n",
    "    # Convert mortgage amortization schedule from nested list to Pandas DataFrame and \n",
    "    # round all columns to 2 decimal places.\n",
    "    ### START CODE HERE ### (≈ 1 line of code)\n",
    "    Df = pd.DataFrame(adv_amort(Bal,Rate,Period,PrePmt)).round(2)\n",
    "    ### END CODE HERE ###\n",
    "     \n",
    "    # Add column names\n",
    "    # 'PmtNo','OutstandingBal','MthPmt','IntPmt','TotIntPaid','PrincipalPmt','TotPrincipalPaid','PrePmt','TotPrePmtPaid'\n",
    "    ### START CODE HERE ### (≈ 1 line of code)\n",
    "    Df.columns = (['PmtNo', 'OutstandingBal', 'MthPmt', 'IntPmt', 'TotIntPaid',\n",
    "                    'PrincipalPmt', 'TotPrincipalPaid', 'PrePmt', 'TotPrePmtPaid'])\n",
    "    ### END CODE HERE ###\n",
    "    \n",
    "    # Add Payment date column    \n",
    "    ### START CODE HERE ### (≈ 1 line of code)\n",
    "    Df['PmtDate'] = pd.date_range(start=FirstPmtDate, periods=Df.shape[0], freq='MS')\n",
    "    ### END CODE HERE ###\n",
    "    \n",
    "    # Customize column order\n",
    "    # 'PmtDate','PmtNo','OutstandingBal','MthPmt','IntPmt','TotIntPaid','PrincipalPmt','TotPrincipalPaid','PrePmt','TotPrePmtPaid'\n",
    "    ### START CODE HERE ### (≈ 1 line of code)  \n",
    "    Df = Df[['PmtDate','PmtNo', 'OutstandingBal', 'MthPmt', 'IntPmt', 'TotIntPaid',\n",
    "               'PrincipalPmt', 'TotPrincipalPaid', 'PrePmt', 'TotPrePmtPaid']]\n",
    "    ### END CODE HERE ###\n",
    "    \n",
    "    return Df"
   ]
  },
  {
   "cell_type": "code",
   "execution_count": 49,
   "metadata": {
    "scrolled": false
   },
   "outputs": [
    {
     "data": {
      "text/html": [
       "<div>\n",
       "<style scoped>\n",
       "    .dataframe tbody tr th:only-of-type {\n",
       "        vertical-align: middle;\n",
       "    }\n",
       "\n",
       "    .dataframe tbody tr th {\n",
       "        vertical-align: top;\n",
       "    }\n",
       "\n",
       "    .dataframe thead th {\n",
       "        text-align: right;\n",
       "    }\n",
       "</style>\n",
       "<table border=\"1\" class=\"dataframe\">\n",
       "  <thead>\n",
       "    <tr style=\"text-align: right;\">\n",
       "      <th></th>\n",
       "      <th>PmtDate</th>\n",
       "      <th>PmtNo</th>\n",
       "      <th>OutstandingBal</th>\n",
       "      <th>MthPmt</th>\n",
       "      <th>IntPmt</th>\n",
       "      <th>TotIntPaid</th>\n",
       "      <th>PrincipalPmt</th>\n",
       "      <th>TotPrincipalPaid</th>\n",
       "      <th>PrePmt</th>\n",
       "      <th>TotPrePmtPaid</th>\n",
       "    </tr>\n",
       "  </thead>\n",
       "  <tbody>\n",
       "    <tr>\n",
       "      <th>0</th>\n",
       "      <td>2020-01-01</td>\n",
       "      <td>1</td>\n",
       "      <td>1995134.22</td>\n",
       "      <td>13199.11</td>\n",
       "      <td>8333.33</td>\n",
       "      <td>8333.33</td>\n",
       "      <td>4865.78</td>\n",
       "      <td>4865.78</td>\n",
       "      <td>0</td>\n",
       "      <td>0</td>\n",
       "    </tr>\n",
       "    <tr>\n",
       "      <th>1</th>\n",
       "      <td>2020-02-01</td>\n",
       "      <td>2</td>\n",
       "      <td>1990248.16</td>\n",
       "      <td>13199.11</td>\n",
       "      <td>8313.06</td>\n",
       "      <td>16646.39</td>\n",
       "      <td>4886.06</td>\n",
       "      <td>9751.84</td>\n",
       "      <td>0</td>\n",
       "      <td>0</td>\n",
       "    </tr>\n",
       "    <tr>\n",
       "      <th>2</th>\n",
       "      <td>2020-03-01</td>\n",
       "      <td>3</td>\n",
       "      <td>1985341.75</td>\n",
       "      <td>13199.11</td>\n",
       "      <td>8292.70</td>\n",
       "      <td>24939.09</td>\n",
       "      <td>4906.41</td>\n",
       "      <td>14658.25</td>\n",
       "      <td>0</td>\n",
       "      <td>0</td>\n",
       "    </tr>\n",
       "    <tr>\n",
       "      <th>3</th>\n",
       "      <td>2020-04-01</td>\n",
       "      <td>4</td>\n",
       "      <td>1980414.89</td>\n",
       "      <td>13199.11</td>\n",
       "      <td>8272.26</td>\n",
       "      <td>33211.35</td>\n",
       "      <td>4926.86</td>\n",
       "      <td>19585.11</td>\n",
       "      <td>0</td>\n",
       "      <td>0</td>\n",
       "    </tr>\n",
       "    <tr>\n",
       "      <th>4</th>\n",
       "      <td>2020-05-01</td>\n",
       "      <td>5</td>\n",
       "      <td>1975467.51</td>\n",
       "      <td>13199.11</td>\n",
       "      <td>8251.73</td>\n",
       "      <td>41463.08</td>\n",
       "      <td>4947.39</td>\n",
       "      <td>24532.49</td>\n",
       "      <td>0</td>\n",
       "      <td>0</td>\n",
       "    </tr>\n",
       "    <tr>\n",
       "      <th>...</th>\n",
       "      <td>...</td>\n",
       "      <td>...</td>\n",
       "      <td>...</td>\n",
       "      <td>...</td>\n",
       "      <td>...</td>\n",
       "      <td>...</td>\n",
       "      <td>...</td>\n",
       "      <td>...</td>\n",
       "      <td>...</td>\n",
       "      <td>...</td>\n",
       "    </tr>\n",
       "    <tr>\n",
       "      <th>99</th>\n",
       "      <td>2028-04-01</td>\n",
       "      <td>100</td>\n",
       "      <td>43163.08</td>\n",
       "      <td>13199.11</td>\n",
       "      <td>233.87</td>\n",
       "      <td>363074.55</td>\n",
       "      <td>12965.25</td>\n",
       "      <td>1956836.92</td>\n",
       "      <td>0</td>\n",
       "      <td>1000000</td>\n",
       "    </tr>\n",
       "    <tr>\n",
       "      <th>100</th>\n",
       "      <td>2028-05-01</td>\n",
       "      <td>101</td>\n",
       "      <td>30143.81</td>\n",
       "      <td>13199.11</td>\n",
       "      <td>179.85</td>\n",
       "      <td>363254.40</td>\n",
       "      <td>13019.27</td>\n",
       "      <td>1969856.19</td>\n",
       "      <td>0</td>\n",
       "      <td>1000000</td>\n",
       "    </tr>\n",
       "    <tr>\n",
       "      <th>101</th>\n",
       "      <td>2028-06-01</td>\n",
       "      <td>102</td>\n",
       "      <td>17070.29</td>\n",
       "      <td>13199.11</td>\n",
       "      <td>125.60</td>\n",
       "      <td>363380.00</td>\n",
       "      <td>13073.52</td>\n",
       "      <td>1982929.71</td>\n",
       "      <td>0</td>\n",
       "      <td>1000000</td>\n",
       "    </tr>\n",
       "    <tr>\n",
       "      <th>102</th>\n",
       "      <td>2028-07-01</td>\n",
       "      <td>103</td>\n",
       "      <td>3942.30</td>\n",
       "      <td>13199.11</td>\n",
       "      <td>71.13</td>\n",
       "      <td>363451.13</td>\n",
       "      <td>13127.99</td>\n",
       "      <td>1996057.70</td>\n",
       "      <td>0</td>\n",
       "      <td>1000000</td>\n",
       "    </tr>\n",
       "    <tr>\n",
       "      <th>103</th>\n",
       "      <td>2028-08-01</td>\n",
       "      <td>104</td>\n",
       "      <td>0.00</td>\n",
       "      <td>3958.73</td>\n",
       "      <td>16.43</td>\n",
       "      <td>363467.55</td>\n",
       "      <td>3942.30</td>\n",
       "      <td>2000000.00</td>\n",
       "      <td>0</td>\n",
       "      <td>1000000</td>\n",
       "    </tr>\n",
       "  </tbody>\n",
       "</table>\n",
       "<p>104 rows × 10 columns</p>\n",
       "</div>"
      ],
      "text/plain": [
       "       PmtDate  PmtNo  OutstandingBal    MthPmt   IntPmt  TotIntPaid  \\\n",
       "0   2020-01-01      1      1995134.22  13199.11  8333.33     8333.33   \n",
       "1   2020-02-01      2      1990248.16  13199.11  8313.06    16646.39   \n",
       "2   2020-03-01      3      1985341.75  13199.11  8292.70    24939.09   \n",
       "3   2020-04-01      4      1980414.89  13199.11  8272.26    33211.35   \n",
       "4   2020-05-01      5      1975467.51  13199.11  8251.73    41463.08   \n",
       "..         ...    ...             ...       ...      ...         ...   \n",
       "99  2028-04-01    100        43163.08  13199.11   233.87   363074.55   \n",
       "100 2028-05-01    101        30143.81  13199.11   179.85   363254.40   \n",
       "101 2028-06-01    102        17070.29  13199.11   125.60   363380.00   \n",
       "102 2028-07-01    103         3942.30  13199.11    71.13   363451.13   \n",
       "103 2028-08-01    104            0.00   3958.73    16.43   363467.55   \n",
       "\n",
       "     PrincipalPmt  TotPrincipalPaid  PrePmt  TotPrePmtPaid  \n",
       "0         4865.78           4865.78       0              0  \n",
       "1         4886.06           9751.84       0              0  \n",
       "2         4906.41          14658.25       0              0  \n",
       "3         4926.86          19585.11       0              0  \n",
       "4         4947.39          24532.49       0              0  \n",
       "..            ...               ...     ...            ...  \n",
       "99       12965.25        1956836.92       0        1000000  \n",
       "100      13019.27        1969856.19       0        1000000  \n",
       "101      13073.52        1982929.71       0        1000000  \n",
       "102      13127.99        1996057.70       0        1000000  \n",
       "103       3942.30        2000000.00       0        1000000  \n",
       "\n",
       "[104 rows x 10 columns]"
      ]
     },
     "execution_count": 49,
     "metadata": {},
     "output_type": "execute_result"
    }
   ],
   "source": [
    "# Expected Output:\n",
    "### START CODE HERE ### (≈ 1 line of code)\n",
    "adv_to_Pandas(Bal=2000000, Rate=5.00, Period=20, FirstPmtDate='2020-01-01', PrePmt={24:500000,30:500000})\n",
    "### END CODE HERE ###"
   ]
  },
  {
   "cell_type": "code",
   "execution_count": null,
   "metadata": {},
   "outputs": [],
   "source": []
  },
  {
   "cell_type": "code",
   "execution_count": null,
   "metadata": {},
   "outputs": [],
   "source": []
  }
 ],
 "metadata": {
  "kernelspec": {
   "display_name": "Python 3",
   "language": "python",
   "name": "python3"
  },
  "language_info": {
   "codemirror_mode": {
    "name": "ipython",
    "version": 3
   },
   "file_extension": ".py",
   "mimetype": "text/x-python",
   "name": "python",
   "nbconvert_exporter": "python",
   "pygments_lexer": "ipython3",
   "version": "3.7.6"
  }
 },
 "nbformat": 4,
 "nbformat_minor": 2
}
